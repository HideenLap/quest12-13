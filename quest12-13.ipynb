{
 "cells": [
  {
   "cell_type": "markdown",
   "metadata": {},
   "source": [
    "Probability\n",
    "1:26/52=0.5\\ \n",
    "2:2/6=0.33\\\n",
    "3:1/4=0.25\\\n",
    "4:5/7=0.714\\\n",
    "5:8/52=0.15\\\n",
    "6:5/6=0.83\\\n",
    "7:12/20=0.6\\\n",
    "8:12/30=0.4\\\n",
    "9:13/52 * 12/51 = 1/17 or 0.058\\\n",
    "10:0.343 or 34.3%"
   ]
  },
  {
   "cell_type": "code",
   "execution_count": null,
   "metadata": {},
   "outputs": [],
   "source": [
    "import numpy as np\n",
    "from scipy import stats\n",
    "import pandas as pd\n",
    "from scipy.stats import zscore\n",
    "import matplotlib.pyplot as plt\n",
    "import math\n",
    "\n"
   ]
  },
  {
   "cell_type": "code",
   "execution_count": 7,
   "metadata": {},
   "outputs": [
    {
     "name": "stdout",
     "output_type": "stream",
     "text": [
      "18.0\n"
     ]
    }
   ],
   "source": [
    "#Statistics\n",
    "#1:\n",
    "data = np.array([4, 8, 15, 16, 23, 42])\n",
    "print(np.mean(data))"
   ]
  },
  {
   "cell_type": "code",
   "execution_count": 19,
   "metadata": {},
   "outputs": [
    {
     "name": "stdout",
     "output_type": "stream",
     "text": [
      "9.0\n"
     ]
    }
   ],
   "source": [
    "#2:\n",
    "data = np.array([7, 12, 3, 9, 15])\n",
    "print(np.median(data))"
   ]
  },
  {
   "cell_type": "code",
   "execution_count": 20,
   "metadata": {},
   "outputs": [
    {
     "name": "stdout",
     "output_type": "stream",
     "text": [
      "ModeResult(mode=4, count=2)\n"
     ]
    }
   ],
   "source": [
    "#3:\n",
    "data = np.array([2, 4, 4, 6, 7, 8, 8, 9])\n",
    "print(stats.mode(data))"
   ]
  },
  {
   "cell_type": "code",
   "execution_count": 23,
   "metadata": {},
   "outputs": [
    {
     "name": "stdout",
     "output_type": "stream",
     "text": [
      "2.211083193570267\n"
     ]
    }
   ],
   "source": [
    "#4:\n",
    "data = np.array([5, 7, 3, 7, 8, 10])\n",
    "print(np.std(data))"
   ]
  },
  {
   "cell_type": "code",
   "execution_count": 27,
   "metadata": {},
   "outputs": [
    {
     "name": "stdout",
     "output_type": "stream",
     "text": [
      "   Value  Frequency\n",
      "2      1          1\n",
      "1      2          2\n",
      "0      3          3\n",
      "3      4          1\n"
     ]
    }
   ],
   "source": [
    "#5\n",
    "\n",
    "data = [1, 2, 2, 3, 3, 3, 4]\n",
    "\n",
    "df = pd.DataFrame(data, columns=['Value'])\n",
    "frequency_distribution = df['Value'].value_counts().reset_index()\n",
    "frequency_distribution.columns = ['Value', 'Frequency']\n",
    "frequency_distribution = frequency_distribution.sort_values(by='Value')\n",
    "\n",
    "print(frequency_distribution)\n"
   ]
  },
  {
   "cell_type": "code",
   "execution_count": 28,
   "metadata": {},
   "outputs": [
    {
     "name": "stdout",
     "output_type": "stream",
     "text": [
      "4.138888888888889\n"
     ]
    }
   ],
   "source": [
    "#6\n",
    "data = np.array([10, 8, 10, 8, 9, 4])\n",
    "print(np.var(data))"
   ]
  },
  {
   "cell_type": "code",
   "execution_count": 33,
   "metadata": {},
   "outputs": [
    {
     "name": "stdout",
     "output_type": "stream",
     "text": [
      "range of dataset is 17\n"
     ]
    }
   ],
   "source": [
    "#7\n",
    "data = [22, 29, 17, 34, 28]\n",
    "print(f'range of dataset is {max(data) - min(data)}')"
   ]
  },
  {
   "cell_type": "code",
   "execution_count": 41,
   "metadata": {},
   "outputs": [
    {
     "name": "stdout",
     "output_type": "stream",
     "text": [
      "Среднее значение: 5.2000\n",
      "Стандартное отклонение: 1.7205\n",
      "Z-значение для 3 элемента: 0.4650\n"
     ]
    }
   ],
   "source": [
    "#8\n",
    "data = [4, 8, 6, 5, 3]\n",
    "\n",
    "mean_value = sum(data) / len(data)\n",
    "std_dev = (sum((x - mean_value) ** 2 for x in data) / len(data)) ** 0.5\n",
    "\n",
    "z_score_first_element = (data[2] - mean_value) / std_dev\n",
    "\n",
    "# Выводим результат\n",
    "print(f\"Среднее значение: {mean_value:.4f}\")\n",
    "print(f\"Стандартное отклонение: {std_dev:.4f}\")\n",
    "print(f\"Z-значение для 3 элемента: {z_score_first_element:.4f}\")\n"
   ]
  },
  {
   "cell_type": "code",
   "execution_count": 42,
   "metadata": {},
   "outputs": [
    {
     "data": {
      "image/png": "[encoded data removed]",
      "text/plain": [
       "<Figure size 640x480 with 1 Axes>"
      ]
     },
     "metadata": {},
     "output_type": "display_data"
    }
   ],
   "source": [
    "#9\n",
    "\n",
    "data = [5, 7, 8, 12, 15, 18, 18, 20]\n",
    "\n",
    "plt.boxplot(data)\n",
    "\n",
    "plt.title(\"Box Plot\")\n",
    "plt.ylabel(\"Значение\")\n",
    "\n",
    "plt.show()"
   ]
  },
  {
   "cell_type": "code",
   "execution_count": 45,
   "metadata": {},
   "outputs": [
    {
     "name": "stdout",
     "output_type": "stream",
     "text": [
      "2.191346617949794\n"
     ]
    },
    {
     "ename": "",
     "evalue": "",
     "output_type": "error",
     "traceback": [
      "\u001b[1;31mThe Kernel crashed while executing code in the the current cell or a previous cell. Please review the code in the cell(s) to identify a possible cause of the failure. Click <a href='https://aka.ms/vscodeJupyterKernelCrash'>here</a> for more info. View Jupyter <a href='command:jupyter.viewOutput'>log</a> for further details."
     ]
    }
   ],
   "source": [
    "#10\n",
    "mean_value = 20\n",
    "std_dev = 5\n",
    "sample_size = 20\n",
    "\n",
    "confidence_lvl = 0.95\n",
    "\n",
    "z_value = 1.96\n",
    "\n",
    "margin_of_error = z_value * (std_dev / math.sqrt(sample_size))\n",
    "\n",
    "print(margin_of_error)"
   ]
  }
 ],
 "metadata": {
  "kernelspec": {
   "display_name": "Python 3",
   "language": "python",
   "name": "python3"
  },
  "language_info": {
   "codemirror_mode": {
    "name": "ipython",
    "version": 3
   },
   "file_extension": ".py",
   "mimetype": "text/x-python",
   "name": "python",
   "nbconvert_exporter": "python",
   "pygments_lexer": "ipython3",
   "version": "3.12.1"
  }
 },
 "nbformat": 4,
 "nbformat_minor": 2
}
